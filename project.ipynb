{
 "cells": [
  {
   "cell_type": "markdown",
   "metadata": {},
   "source": [
    "Importing packages needed"
   ]
  },
  {
   "cell_type": "code",
   "execution_count": null,
   "metadata": {},
   "outputs": [],
   "source": [
    "import numpy as np #for working with arrays\n",
    "import pandas as pd #for data manipulation and analysis\n",
    "import matplotlib.pyplot as plt #for plots and visualisation\n",
    "import seaborn as sns #for visualisation"
   ]
  },
  {
   "cell_type": "markdown",
   "metadata": {},
   "source": [
    "Importing data as a Dataframe"
   ]
  },
  {
   "cell_type": "code",
   "execution_count": null,
   "metadata": {},
   "outputs": [],
   "source": [
    "#data is a csv file on local desktop. File has been included in zip file for reproducibility\n",
    "#data = pd.read_csv()\n",
    "\n",
    "#data is online - to improve reproducibility and scalability\n",
    "#from urllib.request import urlretrieve\n",
    "#url='' # assign file url\n",
    "#urlretrieve(url,'') #save file locally\n",
    "#data = pd.read_csv(, sep='') Read file into a DataFrame - sep = delimeter in file"
   ]
  },
  {
   "cell_type": "markdown",
   "metadata": {},
   "source": [
    "Checking and cleaning the data"
   ]
  },
  {
   "cell_type": "code",
   "execution_count": null,
   "metadata": {},
   "outputs": [],
   "source": [
    "#data.head(-1) #this will show the first and last 5 rows as a quick check to see if the data was loaded properly\n",
    "#data.info #this will show the column names, data types and also check if there is missing values and content.\n",
    "#data.decribe # this will showw summary statistics"
   ]
  },
  {
   "cell_type": "markdown",
   "metadata": {},
   "source": [
    "This could have been done with the below as well:\n",
    "data.shape() #this will show the number of rows and column in our dataframe\n",
    "data.column #this will show the column names\n",
    "data.isnull().sum() #this will count and check for missing values in the data. Without .sum() would return Boolean array, which is harder to see especially with large data\n"
   ]
  }
 ],
 "metadata": {
  "language_info": {
   "name": "python"
  },
  "orig_nbformat": 4
 },
 "nbformat": 4,
 "nbformat_minor": 2
}
